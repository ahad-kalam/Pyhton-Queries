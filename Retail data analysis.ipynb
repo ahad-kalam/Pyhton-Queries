{
 "cells": [
  {
   "cell_type": "markdown",
   "id": "a58584d3-c4e6-4516-bdb6-b064f792fd45",
   "metadata": {},
   "source": [
    "## Import some useful Library"
   ]
  },
  {
   "cell_type": "code",
   "execution_count": 89,
   "id": "4591c9f6-5495-4ae2-a2d7-ae23c1962f52",
   "metadata": {},
   "outputs": [],
   "source": [
    "import pandas as pd\n",
    "import numpy as np\n",
    "import matplotlib.pyplot as plt"
   ]
  },
  {
   "cell_type": "markdown",
   "id": "977b4182-b568-4114-8550-ca1f467174b6",
   "metadata": {},
   "source": [
    "## Import data of different worksheet in a workbook"
   ]
  },
  {
   "cell_type": "code",
   "execution_count": 90,
   "id": "9bc559e0-edb6-4310-a0f9-3fe80380ba0e",
   "metadata": {},
   "outputs": [],
   "source": [
    "# df = pd.read_excel('Retail Dataset.xlsx')\n",
    "order = pd.read_excel('Retail Dataset.xlsx', sheet_name='Orders')\n",
    "product = pd.read_excel('Retail Dataset.xlsx', sheet_name='Product')\n",
    "customer = pd.read_excel('Retail Dataset.xlsx', sheet_name='Customer')"
   ]
  },
  {
   "cell_type": "markdown",
   "id": "c222b0d9-cdbc-4d4e-bd08-205fb00f2cd4",
   "metadata": {},
   "source": [
    "## Structure of each dataframe"
   ]
  },
  {
   "cell_type": "code",
   "execution_count": 91,
   "id": "3a30a23c-dc34-4878-8b3c-e9b0c64dd4a7",
   "metadata": {},
   "outputs": [
    {
     "data": {
      "text/html": [
       "<div>\n",
       "<style scoped>\n",
       "    .dataframe tbody tr th:only-of-type {\n",
       "        vertical-align: middle;\n",
       "    }\n",
       "\n",
       "    .dataframe tbody tr th {\n",
       "        vertical-align: top;\n",
       "    }\n",
       "\n",
       "    .dataframe thead th {\n",
       "        text-align: right;\n",
       "    }\n",
       "</style>\n",
       "<table border=\"1\" class=\"dataframe\">\n",
       "  <thead>\n",
       "    <tr style=\"text-align: right;\">\n",
       "      <th></th>\n",
       "      <th>Order ID</th>\n",
       "      <th>Order Date</th>\n",
       "      <th>Ship Date</th>\n",
       "      <th>Ship Mode</th>\n",
       "      <th>Customer ID</th>\n",
       "      <th>Product ID</th>\n",
       "      <th>Sales</th>\n",
       "      <th>Quantity</th>\n",
       "      <th>Discount</th>\n",
       "      <th>Profit</th>\n",
       "    </tr>\n",
       "  </thead>\n",
       "  <tbody>\n",
       "    <tr>\n",
       "      <th>0</th>\n",
       "      <td>CA-2013-152156</td>\n",
       "      <td>2018-02-21</td>\n",
       "      <td>2018-02-24</td>\n",
       "      <td>Second Class</td>\n",
       "      <td>CG-12520</td>\n",
       "      <td>FUR-BO-10001798</td>\n",
       "      <td>261.0</td>\n",
       "      <td>2</td>\n",
       "      <td>0.0</td>\n",
       "      <td>41.9136</td>\n",
       "    </tr>\n",
       "  </tbody>\n",
       "</table>\n",
       "</div>"
      ],
      "text/plain": [
       "         Order ID Order Date  Ship Date     Ship Mode Customer ID  \\\n",
       "0  CA-2013-152156 2018-02-21 2018-02-24  Second Class    CG-12520   \n",
       "\n",
       "        Product ID  Sales  Quantity  Discount   Profit  \n",
       "0  FUR-BO-10001798  261.0         2       0.0  41.9136  "
      ]
     },
     "execution_count": 91,
     "metadata": {},
     "output_type": "execute_result"
    }
   ],
   "source": [
    "order.head(1)"
   ]
  },
  {
   "cell_type": "code",
   "execution_count": 92,
   "id": "b1323d66-4895-4f5b-92f3-d163458e1920",
   "metadata": {},
   "outputs": [
    {
     "data": {
      "text/html": [
       "<div>\n",
       "<style scoped>\n",
       "    .dataframe tbody tr th:only-of-type {\n",
       "        vertical-align: middle;\n",
       "    }\n",
       "\n",
       "    .dataframe tbody tr th {\n",
       "        vertical-align: top;\n",
       "    }\n",
       "\n",
       "    .dataframe thead th {\n",
       "        text-align: right;\n",
       "    }\n",
       "</style>\n",
       "<table border=\"1\" class=\"dataframe\">\n",
       "  <thead>\n",
       "    <tr style=\"text-align: right;\">\n",
       "      <th></th>\n",
       "      <th>Product ID</th>\n",
       "      <th>Category</th>\n",
       "      <th>Sub-Category</th>\n",
       "      <th>Product Name</th>\n",
       "      <th>Unit Price</th>\n",
       "    </tr>\n",
       "  </thead>\n",
       "  <tbody>\n",
       "    <tr>\n",
       "      <th>0</th>\n",
       "      <td>FUR-BO-10001798</td>\n",
       "      <td>Furniture</td>\n",
       "      <td>Bookcases</td>\n",
       "      <td>Bush Somerset Collection Bookcase</td>\n",
       "      <td>130.5</td>\n",
       "    </tr>\n",
       "  </tbody>\n",
       "</table>\n",
       "</div>"
      ],
      "text/plain": [
       "        Product ID   Category Sub-Category                       Product Name  \\\n",
       "0  FUR-BO-10001798  Furniture    Bookcases  Bush Somerset Collection Bookcase   \n",
       "\n",
       "   Unit Price  \n",
       "0       130.5  "
      ]
     },
     "execution_count": 92,
     "metadata": {},
     "output_type": "execute_result"
    }
   ],
   "source": [
    "product.head(1)"
   ]
  },
  {
   "cell_type": "code",
   "execution_count": 93,
   "id": "ec4511f8-a518-4d90-bd76-39d412e7192e",
   "metadata": {},
   "outputs": [
    {
     "data": {
      "text/html": [
       "<div>\n",
       "<style scoped>\n",
       "    .dataframe tbody tr th:only-of-type {\n",
       "        vertical-align: middle;\n",
       "    }\n",
       "\n",
       "    .dataframe tbody tr th {\n",
       "        vertical-align: top;\n",
       "    }\n",
       "\n",
       "    .dataframe thead th {\n",
       "        text-align: right;\n",
       "    }\n",
       "</style>\n",
       "<table border=\"1\" class=\"dataframe\">\n",
       "  <thead>\n",
       "    <tr style=\"text-align: right;\">\n",
       "      <th></th>\n",
       "      <th>Customer ID</th>\n",
       "      <th>Customer Name</th>\n",
       "      <th>Segment</th>\n",
       "      <th>Country</th>\n",
       "      <th>City</th>\n",
       "      <th>State</th>\n",
       "      <th>Postal Code</th>\n",
       "      <th>Region</th>\n",
       "    </tr>\n",
       "  </thead>\n",
       "  <tbody>\n",
       "    <tr>\n",
       "      <th>0</th>\n",
       "      <td>CG-12520</td>\n",
       "      <td>Claire Gute</td>\n",
       "      <td>Consumer</td>\n",
       "      <td>United States</td>\n",
       "      <td>Henderson</td>\n",
       "      <td>Kentucky</td>\n",
       "      <td>42420</td>\n",
       "      <td>South</td>\n",
       "    </tr>\n",
       "  </tbody>\n",
       "</table>\n",
       "</div>"
      ],
      "text/plain": [
       "  Customer ID Customer Name   Segment        Country       City     State  \\\n",
       "0    CG-12520   Claire Gute  Consumer  United States  Henderson  Kentucky   \n",
       "\n",
       "   Postal Code Region  \n",
       "0        42420  South  "
      ]
     },
     "execution_count": 93,
     "metadata": {},
     "output_type": "execute_result"
    }
   ],
   "source": [
    "customer.head(1)"
   ]
  },
  {
   "cell_type": "markdown",
   "id": "923e8d4f-a3eb-471a-b7d4-4de2410f0981",
   "metadata": {},
   "source": [
    "## Information about data\n",
    "### Focus of null values and data type of each column"
   ]
  },
  {
   "cell_type": "code",
   "execution_count": 94,
   "id": "9e8c553f-1293-4c3f-92ee-26f4938ba607",
   "metadata": {},
   "outputs": [
    {
     "name": "stdout",
     "output_type": "stream",
     "text": [
      "<class 'pandas.core.frame.DataFrame'>\n",
      "RangeIndex: 5006 entries, 0 to 5005\n",
      "Data columns (total 10 columns):\n",
      " #   Column       Non-Null Count  Dtype         \n",
      "---  ------       --------------  -----         \n",
      " 0   Order ID     5006 non-null   object        \n",
      " 1   Order Date   5006 non-null   datetime64[ns]\n",
      " 2   Ship Date    5006 non-null   datetime64[ns]\n",
      " 3   Ship Mode    5006 non-null   object        \n",
      " 4   Customer ID  5006 non-null   object        \n",
      " 5   Product ID   5006 non-null   object        \n",
      " 6   Sales        5006 non-null   float64       \n",
      " 7   Quantity     5006 non-null   int64         \n",
      " 8   Discount     5006 non-null   float64       \n",
      " 9   Profit       5006 non-null   float64       \n",
      "dtypes: datetime64[ns](2), float64(3), int64(1), object(4)\n",
      "memory usage: 391.2+ KB\n"
     ]
    }
   ],
   "source": [
    "order.info()"
   ]
  },
  {
   "cell_type": "code",
   "execution_count": 95,
   "id": "5ebb1e1f-a9ea-4b90-be6f-471f862809bd",
   "metadata": {},
   "outputs": [
    {
     "name": "stdout",
     "output_type": "stream",
     "text": [
      "<class 'pandas.core.frame.DataFrame'>\n",
      "RangeIndex: 1729 entries, 0 to 1728\n",
      "Data columns (total 5 columns):\n",
      " #   Column        Non-Null Count  Dtype  \n",
      "---  ------        --------------  -----  \n",
      " 0   Product ID    1729 non-null   object \n",
      " 1   Category      1729 non-null   object \n",
      " 2   Sub-Category  1729 non-null   object \n",
      " 3   Product Name  1729 non-null   object \n",
      " 4   Unit Price    1729 non-null   float64\n",
      "dtypes: float64(1), object(4)\n",
      "memory usage: 67.7+ KB\n"
     ]
    }
   ],
   "source": [
    "product.info()"
   ]
  },
  {
   "cell_type": "code",
   "execution_count": 96,
   "id": "6df519e7-fd51-4ead-8cf1-63a74883e733",
   "metadata": {},
   "outputs": [
    {
     "name": "stdout",
     "output_type": "stream",
     "text": [
      "<class 'pandas.core.frame.DataFrame'>\n",
      "RangeIndex: 793 entries, 0 to 792\n",
      "Data columns (total 8 columns):\n",
      " #   Column         Non-Null Count  Dtype \n",
      "---  ------         --------------  ----- \n",
      " 0   Customer ID    793 non-null    object\n",
      " 1   Customer Name  793 non-null    object\n",
      " 2   Segment        793 non-null    object\n",
      " 3   Country        793 non-null    object\n",
      " 4   City           793 non-null    object\n",
      " 5   State          793 non-null    object\n",
      " 6   Postal Code    793 non-null    int64 \n",
      " 7   Region         793 non-null    object\n",
      "dtypes: int64(1), object(7)\n",
      "memory usage: 49.7+ KB\n"
     ]
    }
   ],
   "source": [
    "customer.info()"
   ]
  },
  {
   "cell_type": "code",
   "execution_count": 111,
   "id": "f588d61d-2d3b-4fc3-ad0e-024eed997750",
   "metadata": {},
   "outputs": [
    {
     "data": {
      "text/html": [
       "<div>\n",
       "<style scoped>\n",
       "    .dataframe tbody tr th:only-of-type {\n",
       "        vertical-align: middle;\n",
       "    }\n",
       "\n",
       "    .dataframe tbody tr th {\n",
       "        vertical-align: top;\n",
       "    }\n",
       "\n",
       "    .dataframe thead th {\n",
       "        text-align: right;\n",
       "    }\n",
       "</style>\n",
       "<table border=\"1\" class=\"dataframe\">\n",
       "  <thead>\n",
       "    <tr style=\"text-align: right;\">\n",
       "      <th></th>\n",
       "      <th>Sales</th>\n",
       "      <th>Quantity</th>\n",
       "      <th>Discount</th>\n",
       "      <th>Profit</th>\n",
       "    </tr>\n",
       "  </thead>\n",
       "  <tbody>\n",
       "    <tr>\n",
       "      <th>count</th>\n",
       "      <td>5006.000000</td>\n",
       "      <td>5006.000000</td>\n",
       "      <td>5006.000000</td>\n",
       "      <td>5006.000000</td>\n",
       "    </tr>\n",
       "    <tr>\n",
       "      <th>mean</th>\n",
       "      <td>219.636585</td>\n",
       "      <td>3.802837</td>\n",
       "      <td>0.157062</td>\n",
       "      <td>26.474974</td>\n",
       "    </tr>\n",
       "    <tr>\n",
       "      <th>std</th>\n",
       "      <td>553.647738</td>\n",
       "      <td>2.223496</td>\n",
       "      <td>0.207839</td>\n",
       "      <td>204.806561</td>\n",
       "    </tr>\n",
       "    <tr>\n",
       "      <th>min</th>\n",
       "      <td>0.556000</td>\n",
       "      <td>1.000000</td>\n",
       "      <td>0.000000</td>\n",
       "      <td>-3839.990400</td>\n",
       "    </tr>\n",
       "    <tr>\n",
       "      <th>25%</th>\n",
       "      <td>16.259500</td>\n",
       "      <td>2.000000</td>\n",
       "      <td>0.000000</td>\n",
       "      <td>1.792450</td>\n",
       "    </tr>\n",
       "    <tr>\n",
       "      <th>50%</th>\n",
       "      <td>51.650000</td>\n",
       "      <td>3.000000</td>\n",
       "      <td>0.200000</td>\n",
       "      <td>8.461000</td>\n",
       "    </tr>\n",
       "    <tr>\n",
       "      <th>75%</th>\n",
       "      <td>199.987500</td>\n",
       "      <td>5.000000</td>\n",
       "      <td>0.200000</td>\n",
       "      <td>27.991700</td>\n",
       "    </tr>\n",
       "    <tr>\n",
       "      <th>max</th>\n",
       "      <td>11199.968000</td>\n",
       "      <td>14.000000</td>\n",
       "      <td>0.800000</td>\n",
       "      <td>5039.985600</td>\n",
       "    </tr>\n",
       "  </tbody>\n",
       "</table>\n",
       "</div>"
      ],
      "text/plain": [
       "              Sales     Quantity     Discount       Profit\n",
       "count   5006.000000  5006.000000  5006.000000  5006.000000\n",
       "mean     219.636585     3.802837     0.157062    26.474974\n",
       "std      553.647738     2.223496     0.207839   204.806561\n",
       "min        0.556000     1.000000     0.000000 -3839.990400\n",
       "25%       16.259500     2.000000     0.000000     1.792450\n",
       "50%       51.650000     3.000000     0.200000     8.461000\n",
       "75%      199.987500     5.000000     0.200000    27.991700\n",
       "max    11199.968000    14.000000     0.800000  5039.985600"
      ]
     },
     "execution_count": 111,
     "metadata": {},
     "output_type": "execute_result"
    }
   ],
   "source": [
    "order[['Sales','Quantity','Discount','Profit']].describe()"
   ]
  },
  {
   "cell_type": "code",
   "execution_count": 112,
   "id": "ee5d5b56-a5ff-4255-acea-f9ecda88a425",
   "metadata": {},
   "outputs": [
    {
     "data": {
      "text/plain": [
       "count    1729.000000\n",
       "mean       61.003113\n",
       "std       143.534949\n",
       "min         0.336000\n",
       "25%         5.340000\n",
       "50%        15.880000\n",
       "75%        63.294000\n",
       "max      2799.992000\n",
       "Name: Unit Price, dtype: float64"
      ]
     },
     "execution_count": 112,
     "metadata": {},
     "output_type": "execute_result"
    }
   ],
   "source": [
    "product['Unit Price'].describe()"
   ]
  },
  {
   "cell_type": "code",
   "execution_count": 97,
   "id": "a12c6069-c3b3-4847-a39f-2ed0a6e0362d",
   "metadata": {},
   "outputs": [
    {
     "data": {
      "text/html": [
       "<div>\n",
       "<style scoped>\n",
       "    .dataframe tbody tr th:only-of-type {\n",
       "        vertical-align: middle;\n",
       "    }\n",
       "\n",
       "    .dataframe tbody tr th {\n",
       "        vertical-align: top;\n",
       "    }\n",
       "\n",
       "    .dataframe thead th {\n",
       "        text-align: right;\n",
       "    }\n",
       "</style>\n",
       "<table border=\"1\" class=\"dataframe\">\n",
       "  <thead>\n",
       "    <tr style=\"text-align: right;\">\n",
       "      <th></th>\n",
       "      <th>Order ID</th>\n",
       "      <th>Order Date</th>\n",
       "      <th>Ship Date</th>\n",
       "      <th>Ship Mode</th>\n",
       "      <th>Customer ID</th>\n",
       "      <th>Product ID</th>\n",
       "      <th>Sales</th>\n",
       "      <th>Quantity</th>\n",
       "      <th>Discount</th>\n",
       "      <th>Profit</th>\n",
       "    </tr>\n",
       "  </thead>\n",
       "  <tbody>\n",
       "    <tr>\n",
       "      <th>0</th>\n",
       "      <td>CA-2013-152156</td>\n",
       "      <td>2018-02-21</td>\n",
       "      <td>2018-02-24</td>\n",
       "      <td>Second Class</td>\n",
       "      <td>CG-12520</td>\n",
       "      <td>FUR-BO-10001798</td>\n",
       "      <td>261.0000</td>\n",
       "      <td>2</td>\n",
       "      <td>0.00</td>\n",
       "      <td>41.9136</td>\n",
       "    </tr>\n",
       "    <tr>\n",
       "      <th>1</th>\n",
       "      <td>CA-2013-138688</td>\n",
       "      <td>2017-09-25</td>\n",
       "      <td>2017-09-29</td>\n",
       "      <td>Second Class</td>\n",
       "      <td>DV-13045</td>\n",
       "      <td>OFF-LA-10000240</td>\n",
       "      <td>14.6200</td>\n",
       "      <td>2</td>\n",
       "      <td>0.00</td>\n",
       "      <td>6.8714</td>\n",
       "    </tr>\n",
       "    <tr>\n",
       "      <th>2</th>\n",
       "      <td>US-2012-108966</td>\n",
       "      <td>2017-01-23</td>\n",
       "      <td>2017-01-30</td>\n",
       "      <td>Standard Class</td>\n",
       "      <td>SO-20335</td>\n",
       "      <td>FUR-TA-10000577</td>\n",
       "      <td>957.5775</td>\n",
       "      <td>5</td>\n",
       "      <td>0.45</td>\n",
       "      <td>-383.0310</td>\n",
       "    </tr>\n",
       "    <tr>\n",
       "      <th>3</th>\n",
       "      <td>CA-2014-114412</td>\n",
       "      <td>2015-09-22</td>\n",
       "      <td>2015-09-27</td>\n",
       "      <td>Standard Class</td>\n",
       "      <td>BH-11710</td>\n",
       "      <td>FUR-FU-10001487</td>\n",
       "      <td>48.8600</td>\n",
       "      <td>7</td>\n",
       "      <td>0.00</td>\n",
       "      <td>14.1694</td>\n",
       "    </tr>\n",
       "    <tr>\n",
       "      <th>4</th>\n",
       "      <td>CA-2013-161389</td>\n",
       "      <td>2018-07-29</td>\n",
       "      <td>2018-08-03</td>\n",
       "      <td>Standard Class</td>\n",
       "      <td>AA-10480</td>\n",
       "      <td>OFF-PA-10002365</td>\n",
       "      <td>15.5520</td>\n",
       "      <td>3</td>\n",
       "      <td>0.20</td>\n",
       "      <td>5.4432</td>\n",
       "    </tr>\n",
       "    <tr>\n",
       "      <th>...</th>\n",
       "      <td>...</td>\n",
       "      <td>...</td>\n",
       "      <td>...</td>\n",
       "      <td>...</td>\n",
       "      <td>...</td>\n",
       "      <td>...</td>\n",
       "      <td>...</td>\n",
       "      <td>...</td>\n",
       "      <td>...</td>\n",
       "      <td>...</td>\n",
       "    </tr>\n",
       "    <tr>\n",
       "      <th>5001</th>\n",
       "      <td>US-2013-157728</td>\n",
       "      <td>2018-11-16</td>\n",
       "      <td>2018-11-19</td>\n",
       "      <td>First Class</td>\n",
       "      <td>TB-21055</td>\n",
       "      <td>OFF-LA-10004484</td>\n",
       "      <td>16.5200</td>\n",
       "      <td>5</td>\n",
       "      <td>0.20</td>\n",
       "      <td>5.3690</td>\n",
       "    </tr>\n",
       "    <tr>\n",
       "      <th>5002</th>\n",
       "      <td>CA-2012-100251</td>\n",
       "      <td>2018-01-05</td>\n",
       "      <td>2018-01-11</td>\n",
       "      <td>Standard Class</td>\n",
       "      <td>RC-19960</td>\n",
       "      <td>OFF-PA-10002195</td>\n",
       "      <td>35.5600</td>\n",
       "      <td>7</td>\n",
       "      <td>0.00</td>\n",
       "      <td>16.7132</td>\n",
       "    </tr>\n",
       "    <tr>\n",
       "      <th>5003</th>\n",
       "      <td>CA-2013-125794</td>\n",
       "      <td>2016-08-29</td>\n",
       "      <td>2016-09-04</td>\n",
       "      <td>Standard Class</td>\n",
       "      <td>DV-13465</td>\n",
       "      <td>OFF-LA-10003766</td>\n",
       "      <td>31.5000</td>\n",
       "      <td>10</td>\n",
       "      <td>0.00</td>\n",
       "      <td>15.1200</td>\n",
       "    </tr>\n",
       "    <tr>\n",
       "      <th>5004</th>\n",
       "      <td>CA-2014-163629</td>\n",
       "      <td>2018-01-12</td>\n",
       "      <td>2018-01-16</td>\n",
       "      <td>Standard Class</td>\n",
       "      <td>ML-17410</td>\n",
       "      <td>TEC-AC-10003399</td>\n",
       "      <td>36.2400</td>\n",
       "      <td>1</td>\n",
       "      <td>0.00</td>\n",
       "      <td>15.2208</td>\n",
       "    </tr>\n",
       "    <tr>\n",
       "      <th>5005</th>\n",
       "      <td>CA-2011-110422</td>\n",
       "      <td>2019-03-02</td>\n",
       "      <td>2019-03-06</td>\n",
       "      <td>Standard Class</td>\n",
       "      <td>RA-19885</td>\n",
       "      <td>TEC-AC-10001539</td>\n",
       "      <td>79.9900</td>\n",
       "      <td>1</td>\n",
       "      <td>0.00</td>\n",
       "      <td>28.7964</td>\n",
       "    </tr>\n",
       "  </tbody>\n",
       "</table>\n",
       "<p>5006 rows × 10 columns</p>\n",
       "</div>"
      ],
      "text/plain": [
       "            Order ID Order Date  Ship Date       Ship Mode Customer ID  \\\n",
       "0     CA-2013-152156 2018-02-21 2018-02-24    Second Class    CG-12520   \n",
       "1     CA-2013-138688 2017-09-25 2017-09-29    Second Class    DV-13045   \n",
       "2     US-2012-108966 2017-01-23 2017-01-30  Standard Class    SO-20335   \n",
       "3     CA-2014-114412 2015-09-22 2015-09-27  Standard Class    BH-11710   \n",
       "4     CA-2013-161389 2018-07-29 2018-08-03  Standard Class    AA-10480   \n",
       "...              ...        ...        ...             ...         ...   \n",
       "5001  US-2013-157728 2018-11-16 2018-11-19     First Class    TB-21055   \n",
       "5002  CA-2012-100251 2018-01-05 2018-01-11  Standard Class    RC-19960   \n",
       "5003  CA-2013-125794 2016-08-29 2016-09-04  Standard Class    DV-13465   \n",
       "5004  CA-2014-163629 2018-01-12 2018-01-16  Standard Class    ML-17410   \n",
       "5005  CA-2011-110422 2019-03-02 2019-03-06  Standard Class    RA-19885   \n",
       "\n",
       "           Product ID     Sales  Quantity  Discount    Profit  \n",
       "0     FUR-BO-10001798  261.0000         2      0.00   41.9136  \n",
       "1     OFF-LA-10000240   14.6200         2      0.00    6.8714  \n",
       "2     FUR-TA-10000577  957.5775         5      0.45 -383.0310  \n",
       "3     FUR-FU-10001487   48.8600         7      0.00   14.1694  \n",
       "4     OFF-PA-10002365   15.5520         3      0.20    5.4432  \n",
       "...               ...       ...       ...       ...       ...  \n",
       "5001  OFF-LA-10004484   16.5200         5      0.20    5.3690  \n",
       "5002  OFF-PA-10002195   35.5600         7      0.00   16.7132  \n",
       "5003  OFF-LA-10003766   31.5000        10      0.00   15.1200  \n",
       "5004  TEC-AC-10003399   36.2400         1      0.00   15.2208  \n",
       "5005  TEC-AC-10001539   79.9900         1      0.00   28.7964  \n",
       "\n",
       "[5006 rows x 10 columns]"
      ]
     },
     "execution_count": 97,
     "metadata": {},
     "output_type": "execute_result"
    }
   ],
   "source": [
    "order"
   ]
  },
  {
   "cell_type": "markdown",
   "id": "ff39891b-5a6b-45b0-af72-6c9efd664973",
   "metadata": {},
   "source": [
    "## Solve some problem queries"
   ]
  },
  {
   "cell_type": "code",
   "execution_count": 98,
   "id": "1c16572e-428a-45b6-a592-9a5422111515",
   "metadata": {},
   "outputs": [
    {
     "name": "stdout",
     "output_type": "stream",
     "text": [
      "Unique Order ID is : 5006\n"
     ]
    }
   ],
   "source": [
    "# 1. How many unique order IDs are there in the \"orders\" worksheet?\n",
    "\n",
    "unique = order['Order ID'].nunique()\n",
    "print(f\"Unique Order ID is : {unique}\")"
   ]
  },
  {
   "cell_type": "code",
   "execution_count": 99,
   "id": "3985b121-c308-4239-a547-ea8dbd60e753",
   "metadata": {},
   "outputs": [
    {
     "name": "stdout",
     "output_type": "stream",
     "text": [
      "total sales amount : 1099500.74\n"
     ]
    }
   ],
   "source": [
    "# 2. What is the total sales amount in the \"orders\" worksheet?\n",
    "\n",
    "total_sales = order['Sales'].sum()\n",
    "print(f\"total sales amount : {total_sales:.2f}\")"
   ]
  },
  {
   "cell_type": "code",
   "execution_count": 119,
   "id": "7a8a5f3d-6ad6-474c-9f59-23165ee0987f",
   "metadata": {},
   "outputs": [
    {
     "name": "stdout",
     "output_type": "stream",
     "text": [
      "Top 5 products :\n",
      "Product ID\n",
      "TEC-CO-10004722    30099.914\n",
      "OFF-BI-10000545    16437.168\n",
      "TEC-MA-10001127    15749.910\n",
      "FUR-CH-10002024    15631.854\n",
      "OFF-BI-10004995     9254.732\n",
      "Name: Sales, dtype: float64\n"
     ]
    }
   ],
   "source": [
    "# 3. Find the top 5 products with the highest sales in the \"orders\" worksheet.\n",
    "\n",
    "top_product = order.groupby('Product ID')['Sales'].sum().sort_values(ascending= False).head(5)\n",
    "print(\"Top 5 products :\")\n",
    "print(top_product)"
   ]
  },
  {
   "cell_type": "code",
   "execution_count": 127,
   "id": "8a7d62d6-38d7-448b-930d-03aa86c63f95",
   "metadata": {},
   "outputs": [
    {
     "data": {
      "image/png": "[encoded data removed]",
      "text/plain": [
       "<Figure size 1200x800 with 1 Axes>"
      ]
     },
     "metadata": {},
     "output_type": "display_data"
    }
   ],
   "source": [
    "plt.figure(figsize=(12,8))\n",
    "ax = top_product.plot(kind='bar',color= ('skyblue','red'))\n",
    "\n",
    "# Add sales numbers on top of each bar\n",
    "for p in ax.patches:\n",
    "    ax.annotate(f'{p.get_height():,.0f}', \n",
    "                (p.get_x() + p.get_width() / 2., p.get_height()), \n",
    "                xytext=(0, 5), \n",
    "                textcoords='offset points', \n",
    "                ha='center', va='bottom')\n",
    "\n",
    "plt.show()"
   ]
  },
  {
   "cell_type": "code",
   "execution_count": 101,
   "id": "e5ffe201-5b73-4266-913e-5952dc84b168",
   "metadata": {},
   "outputs": [
    {
     "data": {
      "text/html": [
       "<div>\n",
       "<style scoped>\n",
       "    .dataframe tbody tr th:only-of-type {\n",
       "        vertical-align: middle;\n",
       "    }\n",
       "\n",
       "    .dataframe tbody tr th {\n",
       "        vertical-align: top;\n",
       "    }\n",
       "\n",
       "    .dataframe thead th {\n",
       "        text-align: right;\n",
       "    }\n",
       "</style>\n",
       "<table border=\"1\" class=\"dataframe\">\n",
       "  <thead>\n",
       "    <tr style=\"text-align: right;\">\n",
       "      <th></th>\n",
       "      <th>Product ID</th>\n",
       "      <th>Category</th>\n",
       "      <th>Sub-Category</th>\n",
       "      <th>Product Name</th>\n",
       "      <th>Unit Price</th>\n",
       "    </tr>\n",
       "  </thead>\n",
       "  <tbody>\n",
       "    <tr>\n",
       "      <th>0</th>\n",
       "      <td>FUR-BO-10001798</td>\n",
       "      <td>Furniture</td>\n",
       "      <td>Bookcases</td>\n",
       "      <td>Bush Somerset Collection Bookcase</td>\n",
       "      <td>130.5000</td>\n",
       "    </tr>\n",
       "    <tr>\n",
       "      <th>1</th>\n",
       "      <td>OFF-LA-10000240</td>\n",
       "      <td>Office Supplies</td>\n",
       "      <td>Labels</td>\n",
       "      <td>Self-Adhesive Address Labels for Typewriters b...</td>\n",
       "      <td>7.3100</td>\n",
       "    </tr>\n",
       "    <tr>\n",
       "      <th>2</th>\n",
       "      <td>FUR-TA-10000577</td>\n",
       "      <td>Furniture</td>\n",
       "      <td>Tables</td>\n",
       "      <td>Bretford CR4500 Series Slim Rectangular Table</td>\n",
       "      <td>191.5155</td>\n",
       "    </tr>\n",
       "    <tr>\n",
       "      <th>3</th>\n",
       "      <td>FUR-FU-10001487</td>\n",
       "      <td>Furniture</td>\n",
       "      <td>Furnishings</td>\n",
       "      <td>Eldon Expressions Wood and Plastic Desk Access...</td>\n",
       "      <td>6.9800</td>\n",
       "    </tr>\n",
       "    <tr>\n",
       "      <th>4</th>\n",
       "      <td>OFF-PA-10002365</td>\n",
       "      <td>Office Supplies</td>\n",
       "      <td>Paper</td>\n",
       "      <td>Xerox 1967</td>\n",
       "      <td>5.1840</td>\n",
       "    </tr>\n",
       "  </tbody>\n",
       "</table>\n",
       "</div>"
      ],
      "text/plain": [
       "        Product ID         Category Sub-Category  \\\n",
       "0  FUR-BO-10001798        Furniture    Bookcases   \n",
       "1  OFF-LA-10000240  Office Supplies       Labels   \n",
       "2  FUR-TA-10000577        Furniture       Tables   \n",
       "3  FUR-FU-10001487        Furniture  Furnishings   \n",
       "4  OFF-PA-10002365  Office Supplies        Paper   \n",
       "\n",
       "                                        Product Name  Unit Price  \n",
       "0                  Bush Somerset Collection Bookcase    130.5000  \n",
       "1  Self-Adhesive Address Labels for Typewriters b...      7.3100  \n",
       "2      Bretford CR4500 Series Slim Rectangular Table    191.5155  \n",
       "3  Eldon Expressions Wood and Plastic Desk Access...      6.9800  \n",
       "4                                         Xerox 1967      5.1840  "
      ]
     },
     "execution_count": 101,
     "metadata": {},
     "output_type": "execute_result"
    }
   ],
   "source": [
    "product.head()"
   ]
  },
  {
   "cell_type": "code",
   "execution_count": 102,
   "id": "a8ea483c-b39a-4803-b8d6-b3788221ff8f",
   "metadata": {},
   "outputs": [
    {
     "name": "stdout",
     "output_type": "stream",
     "text": [
      "Total products are : 1729\n"
     ]
    }
   ],
   "source": [
    "# 4. How many products are there in the \"product\" worksheet?`\n",
    "\n",
    "product_id = product['Product ID'].nunique()\n",
    "print(f\"Total products are : {product_id}\")"
   ]
  },
  {
   "cell_type": "code",
   "execution_count": 103,
   "id": "1376270b-8e91-41d5-9a7a-313a4f683c2d",
   "metadata": {},
   "outputs": [
    {
     "name": "stdout",
     "output_type": "stream",
     "text": [
      "The average price is : 61.00\n"
     ]
    }
   ],
   "source": [
    "# 5. Find the average price of the products listed in the \"product\" worksheet.\n",
    "\n",
    "total_sum = product['Unit Price'].sum()\n",
    "total_len = product['Unit Price'].count()\n",
    "print(f\"The average price is : {(total_sum / total_len):.2f}\")"
   ]
  },
  {
   "cell_type": "code",
   "execution_count": 104,
   "id": "5bdc6e40-9d77-4c2f-ad62-6cd12a747563",
   "metadata": {},
   "outputs": [
    {
     "data": {
      "text/html": [
       "<div>\n",
       "<style scoped>\n",
       "    .dataframe tbody tr th:only-of-type {\n",
       "        vertical-align: middle;\n",
       "    }\n",
       "\n",
       "    .dataframe tbody tr th {\n",
       "        vertical-align: top;\n",
       "    }\n",
       "\n",
       "    .dataframe thead th {\n",
       "        text-align: right;\n",
       "    }\n",
       "</style>\n",
       "<table border=\"1\" class=\"dataframe\">\n",
       "  <thead>\n",
       "    <tr style=\"text-align: right;\">\n",
       "      <th></th>\n",
       "      <th>Customer ID</th>\n",
       "      <th>Customer Name</th>\n",
       "      <th>Segment</th>\n",
       "      <th>Country</th>\n",
       "      <th>City</th>\n",
       "      <th>State</th>\n",
       "      <th>Postal Code</th>\n",
       "      <th>Region</th>\n",
       "    </tr>\n",
       "  </thead>\n",
       "  <tbody>\n",
       "    <tr>\n",
       "      <th>0</th>\n",
       "      <td>CG-12520</td>\n",
       "      <td>Claire Gute</td>\n",
       "      <td>Consumer</td>\n",
       "      <td>United States</td>\n",
       "      <td>Henderson</td>\n",
       "      <td>Kentucky</td>\n",
       "      <td>42420</td>\n",
       "      <td>South</td>\n",
       "    </tr>\n",
       "    <tr>\n",
       "      <th>1</th>\n",
       "      <td>DV-13045</td>\n",
       "      <td>Darrin Van Huff</td>\n",
       "      <td>Corporate</td>\n",
       "      <td>United States</td>\n",
       "      <td>Los Angeles</td>\n",
       "      <td>California</td>\n",
       "      <td>90036</td>\n",
       "      <td>West</td>\n",
       "    </tr>\n",
       "    <tr>\n",
       "      <th>2</th>\n",
       "      <td>SO-20335</td>\n",
       "      <td>Sean O'Donnell</td>\n",
       "      <td>Consumer</td>\n",
       "      <td>United States</td>\n",
       "      <td>Fort Lauderdale</td>\n",
       "      <td>Florida</td>\n",
       "      <td>33311</td>\n",
       "      <td>South</td>\n",
       "    </tr>\n",
       "    <tr>\n",
       "      <th>3</th>\n",
       "      <td>BH-11710</td>\n",
       "      <td>Brosina Hoffman</td>\n",
       "      <td>Consumer</td>\n",
       "      <td>United States</td>\n",
       "      <td>Los Angeles</td>\n",
       "      <td>California</td>\n",
       "      <td>90032</td>\n",
       "      <td>West</td>\n",
       "    </tr>\n",
       "    <tr>\n",
       "      <th>4</th>\n",
       "      <td>AA-10480</td>\n",
       "      <td>Andrew Allen</td>\n",
       "      <td>Consumer</td>\n",
       "      <td>United States</td>\n",
       "      <td>Concord</td>\n",
       "      <td>North Carolina</td>\n",
       "      <td>28027</td>\n",
       "      <td>South</td>\n",
       "    </tr>\n",
       "  </tbody>\n",
       "</table>\n",
       "</div>"
      ],
      "text/plain": [
       "  Customer ID    Customer Name    Segment        Country             City  \\\n",
       "0    CG-12520      Claire Gute   Consumer  United States        Henderson   \n",
       "1    DV-13045  Darrin Van Huff  Corporate  United States      Los Angeles   \n",
       "2    SO-20335   Sean O'Donnell   Consumer  United States  Fort Lauderdale   \n",
       "3    BH-11710  Brosina Hoffman   Consumer  United States      Los Angeles   \n",
       "4    AA-10480     Andrew Allen   Consumer  United States          Concord   \n",
       "\n",
       "            State  Postal Code Region  \n",
       "0        Kentucky        42420  South  \n",
       "1      California        90036   West  \n",
       "2         Florida        33311  South  \n",
       "3      California        90032   West  \n",
       "4  North Carolina        28027  South  "
      ]
     },
     "execution_count": 104,
     "metadata": {},
     "output_type": "execute_result"
    }
   ],
   "source": [
    "customer.head()"
   ]
  },
  {
   "cell_type": "code",
   "execution_count": 105,
   "id": "b4acd37f-957b-4dd2-972b-e6844b09b9f6",
   "metadata": {},
   "outputs": [
    {
     "name": "stdout",
     "output_type": "stream",
     "text": [
      "toatl unique customer : 793\n"
     ]
    }
   ],
   "source": [
    "# 6. How many unique customers are there in the \"customer\" worksheet?\n",
    "\n",
    "unique_customer = customer['Customer ID'].nunique()\n",
    "print(f\"toatl unique customer : {unique_customer}\")"
   ]
  },
  {
   "cell_type": "code",
   "execution_count": 106,
   "id": "e2f41993-2bae-4778-8aab-cb13c834dd1a",
   "metadata": {},
   "outputs": [
    {
     "name": "stdout",
     "output_type": "stream",
     "text": [
      "Customers with more than 5 purchases:\n",
      "Customer ID\n",
      "AA-10375     9\n",
      "AA-10645     6\n",
      "AB-10060     8\n",
      "AB-10105    10\n",
      "AB-10165     8\n",
      "            ..\n",
      "VW-21775    10\n",
      "WB-21850    11\n",
      "XP-21865    11\n",
      "YS-21880     8\n",
      "ZC-21910    13\n",
      "Length: 464, dtype: int64\n"
     ]
    }
   ],
   "source": [
    "# 7. List all customers who have made more than 5 purchases.\n",
    "\n",
    "customer_counts = order.groupby('Customer ID').size()\n",
    "customer_more_than_5 = customer_counts[customer_counts > 5]\n",
    "print(\"Customers with more than 5 purchases:\")\n",
    "print(customer_more_than_5)"
   ]
  },
  {
   "cell_type": "code",
   "execution_count": 107,
   "id": "7ef59525-f0ff-48fd-b5fe-c0cafca7268f",
   "metadata": {},
   "outputs": [
    {
     "name": "stdout",
     "output_type": "stream",
     "text": [
      "Total revenue of each product:\n",
      "Product ID\n",
      "FUR-BO-10000112     825.174\n",
      "FUR-BO-10000330     653.292\n",
      "FUR-BO-10000362     649.724\n",
      "FUR-BO-10000468     495.516\n",
      "FUR-BO-10000711     851.760\n",
      "                     ...   \n",
      "TEC-PH-10004908    1019.880\n",
      "TEC-PH-10004912     384.650\n",
      "TEC-PH-10004922     482.328\n",
      "TEC-PH-10004924      14.780\n",
      "TEC-PH-10004977    1959.900\n",
      "Name: Sales, Length: 1729, dtype: float64\n"
     ]
    }
   ],
   "source": [
    "# 8.  Merge the \"orders\" and \"product\" worksheets on the product ID and calculate the total revenue for each product.\n",
    "\n",
    "total_revenue = order.groupby('Product ID')['Sales'].sum()\n",
    "print(\"Total revenue of each product:\")\n",
    "print(total_revenue)"
   ]
  },
  {
   "cell_type": "code",
   "execution_count": 108,
   "id": "b46d4562-0001-413a-aa46-fcd6b18c7dda",
   "metadata": {},
   "outputs": [
    {
     "name": "stdout",
     "output_type": "stream",
     "text": [
      "Total revenue of each Customer :\n",
      "Customer ID\n",
      "AA-10315    5008.480\n",
      "AA-10375     718.000\n",
      "AA-10480      76.502\n",
      "AA-10645    1064.158\n",
      "AB-10015     283.316\n",
      "              ...   \n",
      "XP-21865    1030.072\n",
      "YC-21895    4942.606\n",
      "YS-21880    5059.904\n",
      "ZC-21910    2630.684\n",
      "ZD-21925     981.800\n",
      "Name: Sales, Length: 793, dtype: float64\n"
     ]
    }
   ],
   "source": [
    "# 9.  Join the \"orders\" and \"customer\" worksheets using customer ID and find the total sales for each customer.\n",
    "\n",
    "total_sales = order.groupby('Customer ID')['Sales'].sum()\n",
    "print(\"Total revenue of each Customer :\")\n",
    "print(total_sales)"
   ]
  },
  {
   "cell_type": "code",
   "execution_count": 109,
   "id": "80f4e67d-b3ee-48a1-863a-d9789c690add",
   "metadata": {},
   "outputs": [
    {
     "name": "stdout",
     "output_type": "stream",
     "text": [
      "Customer report with total sales and unique products purchased:\n",
      "    Customer ID       Customer Name  total_sales  unique_products\n",
      "0      AA-10315          Alex Avila     5008.480                5\n",
      "1      AA-10375        Allen Armold      718.000                9\n",
      "2      AA-10480        Andrew Allen       76.502                4\n",
      "3      AA-10645       Anna Andreadi     1064.158                6\n",
      "4      AB-10015       Aaron Bergman      283.316                3\n",
      "..          ...                 ...          ...              ...\n",
      "788    XP-21865        Xylona Preis     1030.072               11\n",
      "789    YC-21895      Yoseph Carroll     4942.606                5\n",
      "790    YS-21880       Yana Sorensen     5059.904                8\n",
      "791    ZC-21910    Zuschuss Carroll     2630.684               13\n",
      "792    ZD-21925  Zuschuss Donatelli      981.800                5\n",
      "\n",
      "[793 rows x 4 columns]\n"
     ]
    }
   ],
   "source": [
    "# 10. Create a report that shows the total sales amount for each customer, including their name and the number of unique products they have purchased.\n",
    "\n",
    "merged_df = order.merge(customer, on='Customer ID')\n",
    "customer_report = merged_df.groupby(['Customer ID','Customer Name']).agg(total_sales=('Sales','sum'),\n",
    "                                                                        unique_products= ('Product ID','nunique')).reset_index()\n",
    "print(\"Customer report with total sales and unique products purchased:\")\n",
    "print(customer_report)"
   ]
  },
  {
   "cell_type": "code",
   "execution_count": null,
   "id": "25020af7-2e2f-4958-a1ee-103555938796",
   "metadata": {},
   "outputs": [],
   "source": []
  },
  {
   "cell_type": "code",
   "execution_count": null,
   "id": "925ed057-e438-4354-91cf-56ed096d9a80",
   "metadata": {},
   "outputs": [],
   "source": []
  }
 ],
 "metadata": {
  "kernelspec": {
   "display_name": "Python 3 (ipykernel)",
   "language": "python",
   "name": "python3"
  },
  "language_info": {
   "codemirror_mode": {
    "name": "ipython",
    "version": 3
   },
   "file_extension": ".py",
   "mimetype": "text/x-python",
   "name": "python",
   "nbconvert_exporter": "python",
   "pygments_lexer": "ipython3",
   "version": "3.12.4"
  }
 },
 "nbformat": 4,
 "nbformat_minor": 5
}
